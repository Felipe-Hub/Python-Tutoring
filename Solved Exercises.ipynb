{
 "cells": [
  {
   "cell_type": "code",
   "execution_count": null,
   "metadata": {},
   "outputs": [],
   "source": [
    "# Create a list with range() from 1 to 20\n",
    "# Find odds less then 10 and evens less then 10 or higher than 15\n",
    "# Store them into two separated for even and odds\n",
    "# output = odds = [1, 3, 5, 7, 9], evens = [2, 4, 6, 8, 16, 18, 20\n",
    "\n"
   ]
  },
  {
   "cell_type": "code",
   "execution_count": 9,
   "metadata": {},
   "outputs": [],
   "source": [
    "# Create a list with only the unique numbers, and one with only the repeated numbers\n",
    "numbers = [1,2,2,3,4,5,5,6,7]\n",
    "repeated = []\n",
    "new_lst = []\n",
    "\n",
    "for n in numbers :\n",
    "    if n not in new_lst:\n",
    "        new_lst.append(n)\n",
    "    else:\n",
    "        repeated.append(n)\n",
    "        \n",
    "print(repeated)"
   ]
  },
  {
   "cell_type": "code",
   "execution_count": 3,
   "metadata": {},
   "outputs": [
    {
     "name": "stdout",
     "output_type": "stream",
     "text": [
      "Enter a number: 2\n",
      "Enter a number: 7\n",
      "Enter a number: 10\n",
      "Enter a number: ops\n",
      "Invalid input\n",
      "Enter a number: dez\n",
      "Invalid input\n",
      "Enter a number: 4\n",
      "Enter a number: 70\n",
      "Enter a number: -1\n",
      "Enter a number: done\n",
      "Maximum is 70\n",
      "Minimum is -1\n"
     ]
    }
   ],
   "source": [
    "# Find the smallest and largest without creating list\n",
    "\n",
    "largest = None\n",
    "smallest = None\n",
    "\n",
    "while True:\n",
    "    num = input(\"Enter a number: \")\n",
    "    if num == \"done\" : \n",
    "        break\n",
    "    try:\n",
    "        num = int(num)\n",
    "        \n",
    "    except:\n",
    "        print('Invalid input')\n",
    "        continue\n",
    "        \n",
    "    if largest == None or num > largest:\n",
    "        largest = num\n",
    "\n",
    "    if smallest == None or num < smallest:\n",
    "        smallest = num\n",
    "        \n",
    "print('Maximum is' , largest)\n",
    "print('Minimum is' , smallest)"
   ]
  },
  {
   "cell_type": "code",
   "execution_count": 4,
   "metadata": {},
   "outputs": [
    {
     "name": "stdout",
     "output_type": "stream",
     "text": [
      "Enter a number: 1\n",
      "Enter a number: 2\n",
      "Enter a number: errei\n",
      "Invalid input\n",
      "Enter a number: dez\n",
      "Invalid input\n",
      "Enter a number: 70\n",
      "Enter a number: 10\n",
      "Enter a number: -2\n",
      "Enter a number: 0\n",
      "Enter a number: -4\n",
      "Enter a number: done\n",
      "Maximum is 70\n",
      "Minimum is -4\n"
     ]
    }
   ],
   "source": [
    "# Find the smallest and largest using list\n",
    "\n",
    "num_list = []\n",
    "\n",
    "while True:\n",
    "    num = input(\"Enter a number: \")\n",
    "    if num == \"done\" : \n",
    "        break\n",
    "    try:\n",
    "        num = int(num)\n",
    "        num_list.append(num)\n",
    "        \n",
    "    except:\n",
    "        print('Invalid input')\n",
    "        continue\n",
    "        \n",
    "        \n",
    "print('Maximum is' , max(num_list))\n",
    "print('Minimum is' , min(num_list))"
   ]
  },
  {
   "cell_type": "code",
   "execution_count": 2,
   "metadata": {},
   "outputs": [
    {
     "name": "stdout",
     "output_type": "stream",
     "text": [
      "[50, 40, 40, 10, 50, 10, 40, 50, 50, 50]\n",
      "[45, 45, 25, 50, 25, 40, 10, 45, 10, 10]\n",
      "Gandalf wins!\n"
     ]
    }
   ],
   "source": [
    "# Sorcerer's bonus\n",
    "\n",
    "\n",
    "POWER = {\n",
    "    'Fireball': 50, \n",
    "    'Lightning bolt': 40, \n",
    "    'Magic arrow': 10, \n",
    "    'Black Tentacles': 25, \n",
    "    'Contagion': 45\n",
    "}\n",
    "\n",
    "gandalf = ['Fireball', 'Lightning bolt', 'Lightning bolt', 'Magic arrow', 'Fireball', \n",
    "           'Magic arrow', 'Lightning bolt', 'Fireball', 'Fireball', 'Fireball']\n",
    "\n",
    "saruman = ['Contagion', 'Contagion', 'Black Tentacles', 'Fireball', 'Black Tentacles', \n",
    "           'Lightning bolt', 'Magic arrow', 'Contagion', 'Magic arrow', 'Magic arrow']\n",
    "spells = 0\n",
    "\n",
    "gandalf_power = []\n",
    "saruman_power = []\n",
    "\n",
    "for i in gandalf:\n",
    "    gandalf_power.append(POWER[i])\n",
    "for i in saruman:\n",
    "    saruman_power.append(POWER[i])\n",
    "    \n",
    "print(gandalf_power)\n",
    "print(saruman_power)\n",
    "\n",
    "gandalf_wins = 0\n",
    "saruman_wins = 0\n",
    "\n",
    "gandalf_streak = 0\n",
    "saruman_streak = 0\n",
    "\n",
    "for i in range(len(gandalf_power)):\n",
    "    \n",
    "    \n",
    "    if gandalf_power[i] > saruman_power[i]:\n",
    "        gandalf_wins = gandalf_wins + 1\n",
    "        saruman_streak = 0\n",
    "        gandalf_streak = gandalf_streak + 1\n",
    "        \n",
    "        if gandalf_streak == 3:\n",
    "            winner = \"Gandalf wins!\"\n",
    "            break\n",
    "\n",
    "            \n",
    "    elif gandalf_power[i] < saruman_power[i]:\n",
    "        saruman_wins = saruman_wins + 1\n",
    "        gandalf_streak = 0\n",
    "        saruman_streak = saruman_streak + 1\n",
    "        \n",
    "        if saruman_streak == 3:\n",
    "            winner = \"Saruman wins!\"\n",
    "            break\n",
    "    \n",
    "    \n",
    "    elif gandalf_wins > saruman_wins:\n",
    "        winner = \"Gandalf wins!\"\n",
    "    \n",
    "    \n",
    "    elif gandalf_wins < saruman_wins:\n",
    "        winner = \"Saruman wins!\"\n",
    "    \n",
    "    \n",
    "    else:\n",
    "        winner = 'Tie!'\n",
    "\n",
    "print(winner)"
   ]
  },
  {
   "cell_type": "code",
   "execution_count": null,
   "metadata": {},
   "outputs": [],
   "source": []
  },
  {
   "cell_type": "code",
   "execution_count": null,
   "metadata": {},
   "outputs": [],
   "source": []
  },
  {
   "cell_type": "code",
   "execution_count": null,
   "metadata": {},
   "outputs": [],
   "source": []
  }
 ],
 "metadata": {
  "kernelspec": {
   "display_name": "Python 3",
   "language": "python",
   "name": "python3"
  },
  "language_info": {
   "codemirror_mode": {
    "name": "ipython",
    "version": 3
   },
   "file_extension": ".py",
   "mimetype": "text/x-python",
   "name": "python",
   "nbconvert_exporter": "python",
   "pygments_lexer": "ipython3",
   "version": "3.7.4"
  }
 },
 "nbformat": 4,
 "nbformat_minor": 4
}
