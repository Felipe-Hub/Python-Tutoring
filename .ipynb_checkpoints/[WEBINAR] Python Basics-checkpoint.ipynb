{
 "cells": [
  {
   "cell_type": "markdown",
   "metadata": {},
   "source": [
    "## Python Introduction\n",
    "### Objects, variables and types\n",
    "<br>\n",
    "Everything in python can be called an object, and it has an identity, a type and a value.\n",
    "<br><br>\n",
    "The identity is the name you give the object, the variable name. Each object will also have a type and a value attached to it, even if that value is 0, or None, or empty.\n",
    "<br><br>\n",
    "The core types in Python are:\n",
    "<br>\n",
    "- strings (text wrapped in quotes - can be single quotes or double quotes, it is your choice as long as there is no apostrophe or quotes within the text, in which case you would have to use double quotes);\n",
    "<br>\n",
    "- integers (whole numbers);\n",
    "<br>\n",
    "- floats (numbers with decimal point);\n",
    "<br>\n",
    "- lists (represented by []), dictionaries (represented by {}, carries a key and a value separated by :)\n",
    "<br>\n",
    "- sets (also represented by {}, but with only keys);\n",
    "<br>\n",
    "- tuples (represented by ()).\n",
    "<br><br>\n"
   ]
  },
  {
   "cell_type": "code",
   "execution_count": 13,
   "metadata": {},
   "outputs": [
    {
     "name": "stdout",
     "output_type": "stream",
     "text": [
      "10 <class 'int'>\n",
      "2.5 <class 'float'>\n",
      "Hello World! <class 'str'>\n"
     ]
    }
   ],
   "source": [
    "a = 10\n",
    "b = 2.5\n",
    "c = 'Hello World!'\n",
    "\n",
    "# In this case, 'a' and 'b' are the names, better known as the variables.\n",
    "# '10' and '2' are the values, and their types/classes are integers.\n",
    "\n",
    "print(a, type(a))\n",
    "print(b, type(b))\n",
    "print(c, type(c))"
   ]
  },
  {
   "cell_type": "markdown",
   "metadata": {},
   "source": [
    "![alt text](http://www.leonelmoura.com/wp-content/uploads/2019/01/hello_2013-1024x614.jpg)"
   ]
  },
  {
   "cell_type": "code",
   "execution_count": 14,
   "metadata": {},
   "outputs": [
    {
     "name": "stdout",
     "output_type": "stream",
     "text": [
      "12.5\n",
      "7.5\n",
      "4.0\n",
      "25.0\n",
      "316.22776601683796\n",
      "0.0\n"
     ]
    }
   ],
   "source": [
    "# Basic calculations\n",
    "\n",
    "print(a+b)\n",
    "print(a-b)\n",
    "print(a/b)\n",
    "print(a*b)\n",
    "print(a**b)\n",
    "print(a%b)"
   ]
  },
  {
   "cell_type": "code",
   "execution_count": 9,
   "metadata": {},
   "outputs": [
    {
     "name": "stdout",
     "output_type": "stream",
     "text": [
      "Hello World!Hello World!\n"
     ]
    }
   ],
   "source": [
    "print(b*c)"
   ]
  },
  {
   "cell_type": "code",
   "execution_count": 12,
   "metadata": {},
   "outputs": [
    {
     "ename": "TypeError",
     "evalue": "unsupported operand type(s) for +: 'int' and 'str'",
     "output_type": "error",
     "traceback": [
      "\u001b[1;31m---------------------------------------------------------------------------\u001b[0m",
      "\u001b[1;31mTypeError\u001b[0m                                 Traceback (most recent call last)",
      "\u001b[1;32m<ipython-input-12-29620a3af8d7>\u001b[0m in \u001b[0;36m<module>\u001b[1;34m\u001b[0m\n\u001b[1;32m----> 1\u001b[1;33m \u001b[0mprint\u001b[0m\u001b[1;33m(\u001b[0m\u001b[0ma\u001b[0m\u001b[1;33m+\u001b[0m\u001b[0mc\u001b[0m\u001b[1;33m)\u001b[0m\u001b[1;33m\u001b[0m\u001b[1;33m\u001b[0m\u001b[0m\n\u001b[0m",
      "\u001b[1;31mTypeError\u001b[0m: unsupported operand type(s) for +: 'int' and 'str'"
     ]
    }
   ],
   "source": [
    "# TypeError\n",
    "print(b+c)"
   ]
  },
  {
   "cell_type": "markdown",
   "metadata": {},
   "source": [
    "![ChessUrl](https://media.giphy.com/media/Cebv198beoB4Q/giphy.gif)"
   ]
  },
  {
   "cell_type": "code",
   "execution_count": 25,
   "metadata": {},
   "outputs": [
    {
     "name": "stdout",
     "output_type": "stream",
     "text": [
      "8\n"
     ]
    }
   ],
   "source": [
    "# NameError\n",
    "print(d)"
   ]
  },
  {
   "cell_type": "code",
   "execution_count": 1,
   "metadata": {},
   "outputs": [
    {
     "ename": "SyntaxError",
     "evalue": "Missing parentheses in call to 'print'. Did you mean print(a+b)? (<ipython-input-1-7c48ee43d033>, line 2)",
     "output_type": "error",
     "traceback": [
      "\u001b[1;36m  File \u001b[1;32m\"<ipython-input-1-7c48ee43d033>\"\u001b[1;36m, line \u001b[1;32m2\u001b[0m\n\u001b[1;33m    print a+b\u001b[0m\n\u001b[1;37m          ^\u001b[0m\n\u001b[1;31mSyntaxError\u001b[0m\u001b[1;31m:\u001b[0m Missing parentheses in call to 'print'. Did you mean print(a+b)?\n"
     ]
    }
   ],
   "source": [
    "# SyntaxError\n",
    "print a+b\n",
    "\n",
    "# print() is a function, and most funtions will need a parameter to be passed inside the parentheses.\n",
    "# a parameter is the object that the function will use as input to compute and provide an output."
   ]
  },
  {
   "cell_type": "markdown",
   "metadata": {},
   "source": [
    "![ChessUrl](https://media3.giphy.com/media/115GePH0Iri8QE/giphy.gif?cid=ecf05e473fdb6c76cbcd85c260e063e764991adcf07e366c&rid=giphy.gif)"
   ]
  },
  {
   "cell_type": "markdown",
   "metadata": {},
   "source": [
    "### Groceries with Python"
   ]
  },
  {
   "cell_type": "markdown",
   "metadata": {},
   "source": [
    "![alt text](https://s3.observador.pt/wp-content/uploads/2015/08/14154021/14032020filipeamorim5585.jpg)"
   ]
  },
  {
   "cell_type": "code",
   "execution_count": 61,
   "metadata": {},
   "outputs": [],
   "source": [
    "grocery_list = ['coffee', 'milk', 'cereal', 'bread', 'eggs', 'brie cheese',\n",
    "                'ham', 'canned tuna', 'frozen vegetables', 'chocolate', 'beer']\n",
    "\n",
    "new_items = ['chicken', 'mushrooms', 'cream', 'spices', 'banana', 'wine']"
   ]
  },
  {
   "cell_type": "code",
   "execution_count": 46,
   "metadata": {},
   "outputs": [],
   "source": [
    "new_grocery_list = grocery_list + new_items"
   ]
  },
  {
   "cell_type": "code",
   "execution_count": 47,
   "metadata": {},
   "outputs": [
    {
     "name": "stdout",
     "output_type": "stream",
     "text": [
      "You are buying 17 items: ['banana', 'beer', 'bread', 'brie cheese', 'canned tuna', 'cereal', 'chicken', 'chocolate', 'coffee', 'cream', 'eggs', 'frozen vegetables', 'ham', 'milk', 'mushrooms', 'spices', 'wine']\n"
     ]
    }
   ],
   "source": [
    "sorted_list = sorted(new_grocery_list)\n",
    "total_items = len(new_grocery_list)\n",
    "\n",
    "print('You are buying', total_items, 'items:', sorted_list)"
   ]
  },
  {
   "cell_type": "code",
   "execution_count": 48,
   "metadata": {},
   "outputs": [
    {
     "name": "stdout",
     "output_type": "stream",
     "text": [
      "['coffee', 'milk', 'cereal', 'bread', 'eggs', 'brie cheese', 'ham', 'canned tuna', 'frozen vegetables', 'chocolate', 'beer', 'chicken', 'mushrooms', 'cream', 'spices', 'banana', 'wine']\n"
     ]
    }
   ],
   "source": [
    "print(new_grocery_list)"
   ]
  },
  {
   "cell_type": "code",
   "execution_count": 49,
   "metadata": {},
   "outputs": [
    {
     "name": "stdout",
     "output_type": "stream",
     "text": [
      "['coffee', 'milk', 'cereal', 'bread', 'eggs', 'brie cheese', 'ham', 'canned tuna', 'frozen vegetables', 'chocolate', 'beer']\n"
     ]
    }
   ],
   "source": [
    "print(grocery_list)"
   ]
  },
  {
   "cell_type": "code",
   "execution_count": 50,
   "metadata": {},
   "outputs": [
    {
     "name": "stdout",
     "output_type": "stream",
     "text": [
      "['chicken', 'mushrooms', 'cream', 'spices', 'banana', 'wine']\n"
     ]
    }
   ],
   "source": [
    "print(new_items)"
   ]
  },
  {
   "cell_type": "code",
   "execution_count": 51,
   "metadata": {},
   "outputs": [
    {
     "name": "stdout",
     "output_type": "stream",
     "text": [
      "['banana', 'beer', 'bread', 'brie cheese', 'canned tuna', 'cereal', 'chicken', 'chocolate', 'coffee', 'cream', 'eggs', 'frozen vegetables', 'ham', 'milk', 'mushrooms', 'spices', 'wine']\n"
     ]
    }
   ],
   "source": [
    "print(sorted(grocery_list + new_items))"
   ]
  },
  {
   "cell_type": "code",
   "execution_count": 52,
   "metadata": {},
   "outputs": [
    {
     "name": "stdout",
     "output_type": "stream",
     "text": [
      "standard item: COFFEE\n",
      "standard item: MILK\n",
      "standard item: CEREAL\n",
      "standard item: BREAD\n",
      "standard item: EGGS\n",
      "standard item: BRIE CHEESE\n",
      "standard item: HAM\n",
      "standard item: CANNED TUNA\n",
      "standard item: FROZEN VEGETABLES\n",
      "standard item: CHOCOLATE\n",
      "standard item: BEER\n",
      "other item: Chicken\n",
      "other item: Mushrooms\n",
      "other item: Cream\n",
      "other item: Spices\n",
      "other item: Banana\n",
      "other item: Wine\n"
     ]
    }
   ],
   "source": [
    "# You can iterate through python objects using for loops and while loops.\n",
    "\n",
    "for item in grocery_list:\n",
    "    print('standard item:', item.upper())\n",
    "    \n",
    "for item in new_items:\n",
    "    print('other item:', item.capitalize())\n",
    "    \n",
    "# You can use .lower() to make all lowercase"
   ]
  },
  {
   "cell_type": "code",
   "execution_count": 59,
   "metadata": {},
   "outputs": [],
   "source": [
    "# Adding items to list using Append:\n",
    "\n",
    "for item in new_items:\n",
    "    grocery_list.append(item)\n",
    "    \n",
    "# Note that .append() comes after the grocery_list object (differently than the functions we have seen so far).\n",
    "# That is because append is a method (a sort of 'function' that only works for a specific class/type).\n",
    "# In this case, append is a method of the class 'list', therefore it will only work for lists."
   ]
  },
  {
   "cell_type": "code",
   "execution_count": 62,
   "metadata": {},
   "outputs": [
    {
     "name": "stdout",
     "output_type": "stream",
     "text": [
      "['coffee', 'milk', 'cereal', 'bread', 'eggs', 'brie cheese', 'ham', 'canned tuna', 'frozen vegetables', 'chocolate', 'beer']\n"
     ]
    }
   ],
   "source": [
    "# Another note is that .append() works 'inplace', which means it changes the object itself instead of creating another.\n",
    "# So, you don't need to assign it to a variable.\n",
    "\n",
    "print(grocery_list)"
   ]
  },
  {
   "cell_type": "code",
   "execution_count": 65,
   "metadata": {},
   "outputs": [
    {
     "name": "stdout",
     "output_type": "stream",
     "text": [
      "['coffee', 'milk', 'cereal', 'bread', 'eggs', 'brie cheese', 'ham', 'canned tuna', 'frozen vegetables', 'chocolate', 'beer', 'chicken', 'mushrooms', 'cream', 'spices', 'banana', 'wine']\n"
     ]
    }
   ],
   "source": [
    "new_grocery_list = []\n",
    "\n",
    "for item in grocery_list:\n",
    "    new_grocery_list.append(item)\n",
    "    \n",
    "for item in new_items:\n",
    "    new_grocery_list.append(item)\n",
    "    \n",
    "print(new_grocery_list)"
   ]
  },
  {
   "cell_type": "code",
   "execution_count": 24,
   "metadata": {},
   "outputs": [
    {
     "ename": "TypeError",
     "evalue": "'int' object is not iterable",
     "output_type": "error",
     "traceback": [
      "\u001b[1;31m---------------------------------------------------------------------------\u001b[0m",
      "\u001b[1;31mTypeError\u001b[0m                                 Traceback (most recent call last)",
      "\u001b[1;32m<ipython-input-24-e548f84436f2>\u001b[0m in \u001b[0;36m<module>\u001b[1;34m\u001b[0m\n\u001b[0;32m      2\u001b[0m \u001b[0mie_object\u001b[0m \u001b[1;33m=\u001b[0m \u001b[1;36m800\u001b[0m\u001b[1;33m\u001b[0m\u001b[1;33m\u001b[0m\u001b[0m\n\u001b[0;32m      3\u001b[0m \u001b[1;33m\u001b[0m\u001b[0m\n\u001b[1;32m----> 4\u001b[1;33m \u001b[1;32mfor\u001b[0m \u001b[0mi\u001b[0m \u001b[1;32min\u001b[0m \u001b[0mie_object\u001b[0m\u001b[1;33m:\u001b[0m\u001b[1;33m\u001b[0m\u001b[1;33m\u001b[0m\u001b[0m\n\u001b[0m\u001b[0;32m      5\u001b[0m     \u001b[0mprint\u001b[0m\u001b[1;33m(\u001b[0m\u001b[0mi\u001b[0m\u001b[1;33m)\u001b[0m\u001b[1;33m\u001b[0m\u001b[1;33m\u001b[0m\u001b[0m\n",
      "\u001b[1;31mTypeError\u001b[0m: 'int' object is not iterable"
     ]
    }
   ],
   "source": [
    "# Not all python objects are iterable:\n",
    "ie_object = 800\n",
    "\n",
    "for i in ie_object:\n",
    "    print(i)"
   ]
  },
  {
   "cell_type": "code",
   "execution_count": 81,
   "metadata": {},
   "outputs": [
    {
     "name": "stdout",
     "output_type": "stream",
     "text": [
      "3.5\n"
     ]
    }
   ],
   "source": [
    "# Let's price the items using a dictionary\n",
    "\n",
    "groceries_dict = {'coffee': 3.0, 'milk': 0.75, 'cereal': 2.0, 'bread': 1.3, 'eggs': 0.85, 'brie cheese': 2.5,\n",
    "                  'ham': 2.0, 'canned tuna': 0.85, 'frozen vegetables': 1.0, 'chocolate': 1.2, 'beer': 3.5,\n",
    "                  'chicken': 3.0, 'mushrooms': 0.65, 'cream': 0.55, 'spices': 1.6, 'banana': 0.9, 'wine': 3.8}\n",
    "\n",
    "print(groceries_dict['beer'])"
   ]
  },
  {
   "cell_type": "code",
   "execution_count": 82,
   "metadata": {},
   "outputs": [
    {
     "name": "stdout",
     "output_type": "stream",
     "text": [
      "Total price: 29.449999999999996\n",
      "Total items: 17\n"
     ]
    }
   ],
   "source": [
    "prices = groceries_dict.values()\n",
    "items = groceries_dict.keys()\n",
    "\n",
    "print('Total price:', sum(prices))\n",
    "print('Total items:', len(items))\n",
    "\n",
    "# Python objects with class/type dict_values and dict_keys behaves as lists, and are iterables."
   ]
  },
  {
   "cell_type": "code",
   "execution_count": 83,
   "metadata": {},
   "outputs": [
    {
     "name": "stdout",
     "output_type": "stream",
     "text": [
      "dict_items([('coffee', 3.0), ('milk', 0.75), ('cereal', 2.0), ('bread', 1.3), ('eggs', 0.85), ('brie cheese', 2.5), ('ham', 2.0), ('canned tuna', 0.85), ('frozen vegetables', 1.0), ('chocolate', 1.2), ('beer', 3.5), ('chicken', 3.0), ('mushrooms', 0.65), ('cream', 0.55), ('spices', 1.6), ('banana', 0.9), ('wine', 3.8)])\n"
     ]
    }
   ],
   "source": [
    "print(groceries_dict.items())\n",
    "# Python objects with class/type dict_items behaves as tuples, and are iterables."
   ]
  },
  {
   "cell_type": "code",
   "execution_count": 84,
   "metadata": {},
   "outputs": [
    {
     "name": "stdout",
     "output_type": "stream",
     "text": [
      "coffee 3.0\n",
      "milk 0.75\n",
      "cereal 2.0\n",
      "bread 1.3\n",
      "eggs 0.85\n",
      "brie cheese 2.5\n",
      "ham 2.0\n",
      "canned tuna 0.85\n",
      "frozen vegetables 1.0\n",
      "chocolate 1.2\n",
      "beer 3.5\n",
      "chicken 3.0\n",
      "mushrooms 0.65\n",
      "cream 0.55\n",
      "spices 1.6\n",
      "banana 0.9\n",
      "wine 3.8\n"
     ]
    }
   ],
   "source": [
    "for key, value in groceries_dict.items():\n",
    "    print(key, value)"
   ]
  },
  {
   "cell_type": "code",
   "execution_count": 85,
   "metadata": {},
   "outputs": [
    {
     "name": "stdout",
     "output_type": "stream",
     "text": [
      "To decide: coffee 3.0\n",
      "To keep: milk 0.75\n",
      "To keep: cereal 2.0\n",
      "To keep: bread 1.3\n",
      "To keep: eggs 0.85\n",
      "To keep: brie cheese 2.5\n",
      "To keep: ham 2.0\n",
      "To keep: canned tuna 0.85\n",
      "To keep: frozen vegetables 1.0\n",
      "To keep: chocolate 1.2\n",
      "Not today: beer 3.5\n",
      "To decide: chicken 3.0\n",
      "To keep: mushrooms 0.65\n",
      "To keep: cream 0.55\n",
      "To keep: spices 1.6\n",
      "To keep: banana 0.9\n",
      "Not today: wine 3.8\n"
     ]
    }
   ],
   "source": [
    "# Get items under 3.0:\n",
    "a = 0\n",
    "b = 0\n",
    "c = 0\n",
    "\n",
    "for key, value in groceries_dict.items():\n",
    "    if value < 3:\n",
    "        a = a + 1\n",
    "        print('To keep:', key, value)\n",
    "    elif value == 3:\n",
    "        b = b + 1\n",
    "        print('To decide:', key, value)\n",
    "    else:\n",
    "        c = c + 1\n",
    "        print('Not today:', key, value)\n",
    "        "
   ]
  },
  {
   "cell_type": "code",
   "execution_count": 86,
   "metadata": {},
   "outputs": [
    {
     "name": "stdout",
     "output_type": "stream",
     "text": [
      "To keep: 13\n",
      "To decide: 2\n",
      "Not today: 2\n"
     ]
    }
   ],
   "source": [
    "print('To keep:', a)\n",
    "print('To decide:', b)\n",
    "print('Not today:', c)"
   ]
  },
  {
   "cell_type": "markdown",
   "metadata": {},
   "source": [
    "### Final Challenge"
   ]
  },
  {
   "cell_type": "markdown",
   "metadata": {},
   "source": [
    "The supermarket is giving a 0.15¢ discount for items under 1.0, and 10% discount on items above that. Build a dictionary with the new values."
   ]
  },
  {
   "cell_type": "markdown",
   "metadata": {},
   "source": [
    "![ChessUrl](https://media1.giphy.com/media/5kFWWtxR0UCHgLaM4O/giphy.gif?cid=ecf05e471a3706f254e742c9287809170134b2a159624c91&rid=giphy.gif)"
   ]
  },
  {
   "cell_type": "code",
   "execution_count": 91,
   "metadata": {},
   "outputs": [],
   "source": [
    "a = 0\n",
    "b = 0\n",
    "\n",
    "for key, value in groceries_dict.items():\n",
    "    if value < 1:\n",
    "        groceries_dict[key] = value - 0.15\n",
    "        a = a + 0.15\n",
    "    else:\n",
    "        groceries_dict[key] = value - value*0.1\n",
    "        b = b + value*0.1\n"
   ]
  },
  {
   "cell_type": "code",
   "execution_count": 95,
   "metadata": {},
   "outputs": [
    {
     "name": "stdout",
     "output_type": "stream",
     "text": [
      "{'coffee': 2.43, 'milk': 0.44999999999999996, 'cereal': 1.62, 'bread': 1.053, 'eggs': 0.5499999999999999, 'brie cheese': 2.025, 'ham': 1.62, 'canned tuna': 0.5499999999999999, 'frozen vegetables': 0.75, 'chocolate': 0.9720000000000001, 'beer': 2.835, 'chicken': 2.43, 'mushrooms': 0.35, 'cream': 0.25, 'spices': 1.296, 'banana': 0.6, 'wine': 3.078}\n",
      "You saved: 3.2\n"
     ]
    }
   ],
   "source": [
    "print(groceries_dict)\n",
    "print('You saved:', round(a+b,2))"
   ]
  },
  {
   "cell_type": "code",
   "execution_count": null,
   "metadata": {},
   "outputs": [],
   "source": []
  }
 ],
 "metadata": {
  "kernelspec": {
   "display_name": "Python 3",
   "language": "python",
   "name": "python3"
  }
 },
 "nbformat": 4,
 "nbformat_minor": 4
}
