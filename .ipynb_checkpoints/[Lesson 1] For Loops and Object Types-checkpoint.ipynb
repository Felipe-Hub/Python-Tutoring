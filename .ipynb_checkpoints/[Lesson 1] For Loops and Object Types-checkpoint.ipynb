{
 "cells": [
  {
   "cell_type": "markdown",
   "metadata": {},
   "source": [
    "## 1. Python Introduction\n",
    "### 1.1. Objects, variables and types\n",
    "<br>\n",
    "Everything in python can be called an object, and it has an identity, a type and a value.\n",
    "<br><br>\n",
    "The identity is the name you give the object, the variable name. Each object will also have a type and a value attached to it, even if that value is 0, or None, or empty.\n",
    "<br><br>\n",
    "The core types in Python are:\n",
    "<br>\n",
    "- strings (text wrapped in quotes - can be single quotes or double quotes, it is your choice as long as there is no apostrophe in the text, in which case you would have to use double quotes);\n",
    "<br>\n",
    "- integers (whole numbers);\n",
    "<br>\n",
    "- floats (numbers with decimal point);\n",
    "<br>\n",
    "- lists (represented by []), dictionaries (represented by {}, carries a key and a value separated by :)\n",
    "<br>\n",
    "- sets (also represented by {}, but with only keys);\n",
    "<br>\n",
    "- tuples (represented by ()).\n",
    "<br><br>\n",
    "Here is an example:\n",
    "<br><br>"
   ]
  },
  {
   "cell_type": "code",
   "execution_count": 14,
   "metadata": {},
   "outputs": [
    {
     "data": {
      "text/plain": [
       "['a string',\n",
       " ('a tuple', 'with two strings'),\n",
       " {'a dictionary': 'with one key and value'},\n",
       " ['a nested list, or, a list within a list, with a string inside'],\n",
       " {42, 'a set with a string and an integer, cannot have repeated values'},\n",
       " 42,\n",
       " 42,\n",
       " [],\n",
       " 50.5]"
      ]
     },
     "execution_count": 14,
     "metadata": {},
     "output_type": "execute_result"
    }
   ],
   "source": [
    "my_list_name = [ 'a string', ('a tuple', 'with two strings'),\n",
    "                 {'a dictionary' : 'with one key and value'},\n",
    "                 ['a nested list, or, a list within a list, with a string inside'],\n",
    "                 {'a set with a string and an integer, cannot have repeated values', 42},\n",
    "                 42,\n",
    "                 42,\n",
    "                 [],\n",
    "                 50.5\n",
    "               ]\n",
    "\n",
    "my_list_name"
   ]
  },
  {
   "cell_type": "markdown",
   "metadata": {},
   "source": [
    "In this case \"my_list_name\" is the identity of the object, also known as the variable in which I assigned my values to.<br> The type of \"my_list_name\" is a list, and inside that list we have multiple objects with different types and values.\n",
    "<br><br>"
   ]
  },
  {
   "cell_type": "markdown",
   "metadata": {},
   "source": [
    "To find an objetc's type we can use the function type():"
   ]
  },
  {
   "cell_type": "code",
   "execution_count": 15,
   "metadata": {},
   "outputs": [
    {
     "data": {
      "text/plain": [
       "list"
      ]
     },
     "execution_count": 15,
     "metadata": {},
     "output_type": "execute_result"
    }
   ],
   "source": [
    "type(my_list_name)"
   ]
  },
  {
   "cell_type": "markdown",
   "metadata": {},
   "source": [
    "Functions are objects pre-coded that can make stuff happen just by calling them, but we will get to that later."
   ]
  },
  {
   "cell_type": "markdown",
   "metadata": {},
   "source": [
    "### 1.2. For Loops\n",
    "<br>\n",
    "'For loops' are used to iterate over an iterable object in python. <br>\n",
    "An iterable object is an object that contains a sequence, that can be accessed individually.<br><br>\n",
    "Let's say we want to access each item in our \"my_list_name\" and print() each of the types in it, we want to number them, and see how many objects there are in the list:\n"
   ]
  },
  {
   "cell_type": "code",
   "execution_count": 38,
   "metadata": {},
   "outputs": [
    {
     "name": "stdout",
     "output_type": "stream",
     "text": [
      "1\n",
      "a string <class 'str'> \n",
      "\n",
      "2\n",
      "('a tuple', 'with two strings') <class 'tuple'> \n",
      "\n",
      "3\n",
      "{'a dictionary': 'with one key and value'} <class 'dict'> \n",
      "\n",
      "4\n",
      "['a nested list, or, a list within a list, with a string inside'] <class 'list'> \n",
      "\n",
      "5\n",
      "{42, 'a set with a string and an integer, cannot have repeated values'} <class 'set'> \n",
      "\n",
      "6\n",
      "42 <class 'int'> \n",
      "\n",
      "7\n",
      "42 <class 'int'> \n",
      "\n",
      "8\n",
      "[] <class 'list'> \n",
      "\n",
      "9\n",
      "50.5 <class 'float'> \n",
      "\n",
      "There are 9 items in the list.\n"
     ]
    }
   ],
   "source": [
    "c = 0\n",
    "\n",
    "for item in my_list_name:\n",
    "    c = c + 1\n",
    "    item_type = type(item)\n",
    "    print(c)\n",
    "    print(item, item_type, '\\n')\n",
    "    \n",
    "print(\"There are {} items in the list.\".format(len(my_list_name)))"
   ]
  },
  {
   "cell_type": "markdown",
   "metadata": {},
   "source": [
    "Now, let's say we want to know also the types within the other objects inside my list:"
   ]
  },
  {
   "cell_type": "code",
   "execution_count": 39,
   "metadata": {},
   "outputs": [
    {
     "name": "stdout",
     "output_type": "stream",
     "text": [
      "\n",
      "\n",
      " 1 a string \n",
      "\n",
      "a <class 'str'>\n",
      "  <class 'str'>\n",
      "s <class 'str'>\n",
      "t <class 'str'>\n",
      "r <class 'str'>\n",
      "i <class 'str'>\n",
      "n <class 'str'>\n",
      "g <class 'str'>\n",
      "\n",
      "\n",
      " 2 ('a tuple', 'with two strings') \n",
      "\n",
      "a tuple <class 'str'>\n",
      "with two strings <class 'str'>\n",
      "\n",
      "\n",
      " 3 {'a dictionary': 'with one key and value'} \n",
      "\n",
      "a dictionary <class 'str'>\n",
      "\n",
      "\n",
      " 4 ['a nested list, or, a list within a list, with a string inside'] \n",
      "\n",
      "a nested list, or, a list within a list, with a string inside <class 'str'>\n",
      "\n",
      "\n",
      " 5 {42, 'a set with a string and an integer, cannot have repeated values'} \n",
      "\n",
      "42 <class 'int'>\n",
      "a set with a string and an integer, cannot have repeated values <class 'str'>\n",
      "\n",
      "\n",
      " 6 42 \n",
      "\n"
     ]
    },
    {
     "ename": "TypeError",
     "evalue": "'int' object is not iterable",
     "output_type": "error",
     "traceback": [
      "\u001b[1;31m---------------------------------------------------------------------------\u001b[0m",
      "\u001b[1;31mTypeError\u001b[0m                                 Traceback (most recent call last)",
      "\u001b[1;32m<ipython-input-39-0632666f101c>\u001b[0m in \u001b[0;36m<module>\u001b[1;34m\u001b[0m\n\u001b[0;32m      4\u001b[0m     \u001b[0mc\u001b[0m \u001b[1;33m+=\u001b[0m \u001b[1;36m1\u001b[0m\u001b[1;33m\u001b[0m\u001b[1;33m\u001b[0m\u001b[0m\n\u001b[0;32m      5\u001b[0m     \u001b[0mprint\u001b[0m\u001b[1;33m(\u001b[0m\u001b[1;34m'\\n\\n'\u001b[0m\u001b[1;33m,\u001b[0m \u001b[0mc\u001b[0m\u001b[1;33m,\u001b[0m \u001b[0mitem\u001b[0m\u001b[1;33m,\u001b[0m \u001b[1;34m'\\n'\u001b[0m\u001b[1;33m)\u001b[0m\u001b[1;33m\u001b[0m\u001b[1;33m\u001b[0m\u001b[0m\n\u001b[1;32m----> 6\u001b[1;33m     \u001b[1;32mfor\u001b[0m \u001b[0mi\u001b[0m \u001b[1;32min\u001b[0m \u001b[0mitem\u001b[0m\u001b[1;33m:\u001b[0m\u001b[1;33m\u001b[0m\u001b[1;33m\u001b[0m\u001b[0m\n\u001b[0m\u001b[0;32m      7\u001b[0m         \u001b[0mitem_type\u001b[0m \u001b[1;33m=\u001b[0m \u001b[0mtype\u001b[0m\u001b[1;33m(\u001b[0m\u001b[0mi\u001b[0m\u001b[1;33m)\u001b[0m\u001b[1;33m\u001b[0m\u001b[1;33m\u001b[0m\u001b[0m\n\u001b[0;32m      8\u001b[0m         \u001b[0mprint\u001b[0m\u001b[1;33m(\u001b[0m\u001b[0mi\u001b[0m\u001b[1;33m,\u001b[0m \u001b[0mitem_type\u001b[0m\u001b[1;33m)\u001b[0m\u001b[1;33m\u001b[0m\u001b[1;33m\u001b[0m\u001b[0m\n",
      "\u001b[1;31mTypeError\u001b[0m: 'int' object is not iterable"
     ]
    }
   ],
   "source": [
    "c = 0\n",
    "\n",
    "for item in my_list_name:\n",
    "    c += 1 # notice that c += 1 is the same as we did before c = c + 1, but it is more professional\n",
    "    print('\\n\\n', c, item, '\\n')\n",
    "    for i in item:\n",
    "        item_type = type(i)\n",
    "        print(i, item_type)"
   ]
  },
  {
   "cell_type": "markdown",
   "metadata": {},
   "source": [
    "Here we can see that:\n",
    "- the nested for loop accessed each object within the objects in \"my_list_name\";\n",
    "- since a string is also iterable, the nested for loop printed each individual character;\n",
    "- the dictionary only printed the key (we will get to it later);\n",
    "- since integers are not iterable, it returned an error: \"TypeError: 'int' object is not iterable\", where the for loop broke;\n"
   ]
  },
  {
   "cell_type": "markdown",
   "metadata": {},
   "source": [
    "### 1.3. While Loops\n",
    "\n",
    "While loops are not as used as for loops, but can be more effective in some situations:"
   ]
  },
  {
   "cell_type": "code",
   "execution_count": 41,
   "metadata": {},
   "outputs": [
    {
     "name": "stdout",
     "output_type": "stream",
     "text": [
      "0\n",
      "1\n",
      "2\n",
      "3\n",
      "4\n",
      "5\n",
      "6\n",
      "7\n",
      "8\n",
      "9\n",
      "Finished.\n"
     ]
    }
   ],
   "source": [
    "c = 0\n",
    "\n",
    "while c < 10:\n",
    "    print(c)\n",
    "    c += 1\n",
    "    \n",
    "print('Finished.')"
   ]
  },
  {
   "cell_type": "markdown",
   "metadata": {},
   "source": [
    "### 2. LISTS\n",
    "\n",
    "Lists are amongst the most used object types in python, since it is iterable, being able to store a lot of data inside that is easy to access and manipulate. <br><br>\n",
    "Like most core objects in Python, lists have a bunch of built-in functions that you can use specifically for that class. Lists are no different, so let's start with some basic ones:\n"
   ]
  },
  {
   "cell_type": "code",
   "execution_count": 32,
   "metadata": {},
   "outputs": [
    {
     "data": {
      "text/plain": [
       "['a string']"
      ]
     },
     "execution_count": 32,
     "metadata": {},
     "output_type": "execute_result"
    }
   ],
   "source": [
    "# First we create an empty list\n",
    "another_list = []\n",
    "\n",
    "# Now let's populate it by using the .append() function\n",
    "another_list.append('a string')\n",
    "\n",
    "# Now let's show our list\n",
    "another_list"
   ]
  },
  {
   "cell_type": "markdown",
   "metadata": {},
   "source": [
    "You can keep appending objects manually, but you usually will do it in a more automated way, since you will probably be working with loads of data. So let's do it with a for loop:"
   ]
  },
  {
   "cell_type": "code",
   "execution_count": null,
   "metadata": {},
   "outputs": [],
   "source": [
    "# This is not recommended because it will take longer:\n",
    "\n",
    "data_to_append = ['i want', 'to append', 'this data', \"to 'another_list'\"]\n",
    "\n",
    "for data in data_to_append:\n",
    "    another_list.append(data)\n",
    "    \n",
    "another_list"
   ]
  },
  {
   "cell_type": "code",
   "execution_count": 40,
   "metadata": {},
   "outputs": [
    {
     "data": {
      "text/plain": [
       "['another', 'example', 'faster', 'and better']"
      ]
     },
     "execution_count": 40,
     "metadata": {},
     "output_type": "execute_result"
    }
   ],
   "source": [
    "# A better way to do it, without the for loop:\n",
    "\n",
    "one_list = ['another', 'example']\n",
    "two_list = ['faster', 'and better']\n",
    "\n",
    "new_list = one_list + two_list\n",
    "\n",
    "new_list"
   ]
  },
  {
   "cell_type": "markdown",
   "metadata": {},
   "source": [
    "Extra: Notice that .append() is an inplace function, so it changes the object right away, without having to assign it to a new variable. So, if you run the cell above again, it will append everything again, so you will have a list with the values doubled, to reset the list you will have to run the cell above that one, where we assigned another_list = [] "
   ]
  },
  {
   "cell_type": "markdown",
   "metadata": {},
   "source": [
    "### 2.1. List indexing\n",
    "\n",
    "Indexing is used to access an object in a specific position inside a list. Indexing works in some other iterables, like in strings and tuples, but it does not work with sets (since theoretically, they are not ordered), and works differently in dictionaries (since when you pass in the index it will return the value associated with the key)."
   ]
  },
  {
   "cell_type": "code",
   "execution_count": 56,
   "metadata": {},
   "outputs": [
    {
     "data": {
      "text/plain": [
       "2"
      ]
     },
     "execution_count": 56,
     "metadata": {},
     "output_type": "execute_result"
    }
   ],
   "source": [
    "a = [1,2,3,4]\n",
    "\n",
    "a[1]"
   ]
  },
  {
   "cell_type": "code",
   "execution_count": 59,
   "metadata": {},
   "outputs": [
    {
     "name": "stdout",
     "output_type": "stream",
     "text": [
      "[1, 2]\n",
      "[2, 3, 4]\n",
      "[2, 3]\n"
     ]
    }
   ],
   "source": [
    "# You can also slice:\n",
    "\n",
    "print(a[0:2]) # the used way is a[:2]\n",
    "print(a[1:4]) # the used way is a[1:]\n",
    "print(a[1:3])"
   ]
  },
  {
   "cell_type": "markdown",
   "metadata": {},
   "source": [
    "### 3. Integers and Floats"
   ]
  },
  {
   "cell_type": "code",
   "execution_count": 63,
   "metadata": {},
   "outputs": [
    {
     "name": "stdout",
     "output_type": "stream",
     "text": [
      "6\n",
      "8\n",
      "16\n",
      "0.5\n",
      "0\n",
      "2\n"
     ]
    }
   ],
   "source": [
    "a = 2\n",
    "b = 4\n",
    "print(a+b)\n",
    "print(a*b)\n",
    "print(a**b)\n",
    "print(a/b)\n",
    "print(b%a) # remainder returns you what is leftover from a division\n",
    "print(a%b)"
   ]
  },
  {
   "cell_type": "markdown",
   "metadata": {},
   "source": [
    "### 4. Exercises \n",
    "\n",
    "Write a Python program which iterates the integers from 1 to 50. For multiples of three print \"Fizz\" instead of the number and for the multiples of five print \"Buzz\". For numbers which are multiples of both three and five print \"FizzBuzz\"."
   ]
  },
  {
   "cell_type": "code",
   "execution_count": null,
   "metadata": {},
   "outputs": [],
   "source": []
  },
  {
   "cell_type": "code",
   "execution_count": null,
   "metadata": {},
   "outputs": [],
   "source": []
  }
 ],
 "metadata": {
  "kernelspec": {
   "display_name": "Python 3",
   "language": "python",
   "name": "python3"
  },
  "language_info": {
   "codemirror_mode": {
    "name": "ipython",
    "version": 3
   },
   "file_extension": ".py",
   "mimetype": "text/x-python",
   "name": "python",
   "nbconvert_exporter": "python",
   "pygments_lexer": "ipython3",
   "version": "3.7.4"
  }
 },
 "nbformat": 4,
 "nbformat_minor": 4
}
